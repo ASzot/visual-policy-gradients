{
 "cells": [
  {
   "cell_type": "code",
   "execution_count": null,
   "id": "f598855a",
   "metadata": {},
   "outputs": [],
   "source": [
    "from rl_helper.envs import create_vectorized_envs\n",
    "from rl_helper.envs.pointmass.pointmass_env import PointMassParams\n",
    "import torch.nn as nn\n",
    "import torch\n",
    "from torch.distributions import Normal"
   ]
  },
  {
   "cell_type": "code",
   "execution_count": null,
   "id": "7808c07c",
   "metadata": {},
   "outputs": [],
   "source": [
    "envs = create_vectorized_envs(\"PointMass-v0\", 128, params=PointMassParams(normalize_control=True))"
   ]
  },
  {
   "cell_type": "code",
   "execution_count": null,
   "id": "7777ef6a",
   "metadata": {},
   "outputs": [],
   "source": [
    "class Policy(nn.Module):\n",
    "    def __init__(self):\n",
    "        super().__init__()\n",
    "        self.weight = nn.Parameter(0.1 * torch.randn(2, 2))\n",
    "        # self.weight = nn.Parameter(torch.tensor([1.0, 0.0]).view(state_dim, 1))\n",
    "        # self.weight = nn.Parameter(torch.zeros(state_dim, 1))\n",
    "        self.logstd = nn.Parameter(torch.zeros(1, 2))\n",
    "\n",
    "    def forward(self, state):\n",
    "        print(state.shape)\n",
    "        mean = state @ self.weight\n",
    "        logstd = self.logstd.expand_as(mean)\n",
    "        return Normal(mean, logstd.exp())"
   ]
  },
  {
   "cell_type": "code",
   "execution_count": null,
   "id": "ca21287a",
   "metadata": {},
   "outputs": [],
   "source": [
    "def evaluate(num_eval_episodes, policy, envs):\n",
    "    obs = envs.reset()\n",
    "    dists_to_goal = []\n",
    "    for eval_i in range(num_eval_episodes):\n",
    "        action_distrib = policy(obs)\n",
    "        use_action = action_distrib.mean\n",
    "        obs, _, info, done = envs.step(use_action)\n",
    "        for done_i in torch.nonzero(done):\n",
    "            dists_to_goal.append(info['dist_to_goal'])\n",
    "    return np.mean(dists_to_goal)"
   ]
  },
  {
   "cell_type": "code",
   "execution_count": null,
   "id": "d25c9b39",
   "metadata": {},
   "outputs": [],
   "source": [
    "policy = Policy()\n",
    "evaluate(10, policy, envs)"
   ]
  },
  {
   "cell_type": "code",
   "execution_count": null,
   "id": "918ca5d8",
   "metadata": {},
   "outputs": [],
   "source": [
    "num_steps = 128\n",
    "num_updates = 1000\n",
    "\n",
    "for update_i in range(num_updates):\n",
    "    for step_idx in range(cfg.num_steps):\n",
    "        with torch.no_grad():\n",
    "            act_data = policy.act(\n",
    "                storage.get_obs(step_idx),\n",
    "                storage.recurrent_hidden_states[step_idx],\n",
    "                storage.masks[step_idx],\n",
    "            )\n",
    "        next_obs, reward, done, info = envs.step(act_data[\"action\"])\n",
    "        storage.insert(next_obs, reward, done, info, **act_data)\n",
    "        logger.collect_env_step_info(info)\n",
    "\n",
    "    updater.update(policy, storage, logger)\n"
   ]
  }
 ],
 "metadata": {
  "jupytext": {
   "formats": "ipynb,py:percent"
  },
  "kernelspec": {
   "display_name": "Python 3",
   "language": "python",
   "name": "python3"
  },
  "language_info": {
   "codemirror_mode": {
    "name": "ipython",
    "version": 3
   },
   "file_extension": ".py",
   "mimetype": "text/x-python",
   "name": "python",
   "nbconvert_exporter": "python",
   "pygments_lexer": "ipython3",
   "version": "3.7.11"
  }
 },
 "nbformat": 4,
 "nbformat_minor": 5
}
