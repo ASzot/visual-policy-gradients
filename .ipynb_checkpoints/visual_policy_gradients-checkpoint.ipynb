{
 "cells": [
  {
   "cell_type": "code",
   "execution_count": 1,
   "id": "549beafd",
   "metadata": {},
   "outputs": [],
   "source": [
    "from rl_helper.envs import create_vectorized_envs\n",
    "import torch.nn as nn"
   ]
  },
  {
   "cell_type": "code",
   "execution_count": 2,
   "id": "d8f562c8",
   "metadata": {},
   "outputs": [
    {
     "name": "stdout",
     "output_type": "stream",
     "text": [
      "Found <class 'rl_helper.envs.pointmass.pointmass_env.PointMassEnv'> for env PointMass-v0\n"
     ]
    }
   ],
   "source": [
    "envs = create_vectorized_envs(\"PointMass-v0\", 128)"
   ]
  },
  {
   "cell_type": "code",
   "execution_count": null,
   "id": "bdc81826",
   "metadata": {},
   "outputs": [],
   "source": [
    "class Policy(nn.Module):\n",
    "    def __init__(self):\n",
    "        super().__init__()\n",
    "        self.weight = nn.Parameter(0.1 * torch.randn(state_dim, 1))\n",
    "        # self.weight = nn.Parameter(torch.tensor([1.0, 0.0]).view(state_dim, 1))\n",
    "        # self.weight = nn.Parameter(torch.zeros(state_dim, 1))\n",
    "        self.logstd = nn.Parameter(torch.zeros(1, action_dim))\n",
    "\n",
    "    def forward(self, state):\n",
    "        mean = state @ self.weight\n",
    "        logstd = self.logstd.expand_as(mean)\n",
    "        return Normal(mean, logstd.exp())"
   ]
  }
 ],
 "metadata": {
  "kernelspec": {
   "display_name": "Python 3",
   "language": "python",
   "name": "python3"
  },
  "language_info": {
   "codemirror_mode": {
    "name": "ipython",
    "version": 3
   },
   "file_extension": ".py",
   "mimetype": "text/x-python",
   "name": "python",
   "nbconvert_exporter": "python",
   "pygments_lexer": "ipython3",
   "version": "3.7.11"
  }
 },
 "nbformat": 4,
 "nbformat_minor": 5
}
